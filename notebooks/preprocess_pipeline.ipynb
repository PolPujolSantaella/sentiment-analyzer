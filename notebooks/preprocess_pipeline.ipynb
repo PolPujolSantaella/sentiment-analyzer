{
 "cells": [
  {
   "cell_type": "markdown",
   "id": "7f81cbab",
   "metadata": {},
   "source": [
    "# Preprocess Pipeline"
   ]
  },
  {
   "cell_type": "code",
   "execution_count": null,
   "id": "43357a5d",
   "metadata": {},
   "outputs": [],
   "source": [
    "import os\n",
    "import sys\n",
    "\n",
    "sys.path.append(os.path.abspath('..'))\n",
    "import pandas as pd\n",
    "\n",
    "from app.utils import preprocess_pipeline\n",
    "\n",
    "df = pd.read_csv('../data/imdb_reviews_train.csv')\n",
    "df_test = pd.read_csv('../data/imdb_reviews_test.csv')\n",
    "\n",
    "df['clean_text'] = df['review'].apply(preprocess_pipeline)\n",
    "df_test['clean_text'] = df_test['review'].apply(preprocess_pipeline)\n",
    "\n",
    "#print(df.head())"
   ]
  },
  {
   "cell_type": "code",
   "execution_count": null,
   "id": "506d6c2a",
   "metadata": {},
   "outputs": [],
   "source": [
    "df_train_copy = df.copy()\n",
    "df_train_copy.drop(columns=['review'], inplace=True)\n",
    "df_train_copy.to_csv('../data/preprocessed/imdb_reviews_train_clean.csv', index=False)\n",
    "\n",
    "df_test_copy = df_test.copy()\n",
    "df_test_copy.drop(columns=['review'], inplace=True)\n",
    "df_test_copy.to_csv('../data/preprocessed/imdb_reviews_test_clean.csv', index=False)"
   ]
  }
 ],
 "metadata": {
  "kernelspec": {
   "display_name": "venv",
   "language": "python",
   "name": "python3"
  },
  "language_info": {
   "codemirror_mode": {
    "name": "ipython",
    "version": 3
   },
   "file_extension": ".py",
   "mimetype": "text/x-python",
   "name": "python",
   "nbconvert_exporter": "python",
   "pygments_lexer": "ipython3",
   "version": "3.11.4"
  }
 },
 "nbformat": 4,
 "nbformat_minor": 5
}
