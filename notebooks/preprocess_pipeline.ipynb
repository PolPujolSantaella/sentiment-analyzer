{
 "cells": [
  {
   "cell_type": "markdown",
   "id": "7f81cbab",
   "metadata": {},
   "source": [
    "# Preprocess Pipeline"
   ]
  },
  {
   "cell_type": "code",
   "execution_count": 2,
   "id": "44e38513",
   "metadata": {},
   "outputs": [],
   "source": [
    "import os\n",
    "import sys\n",
    "\n",
    "sys.path.append(os.path.abspath('..'))\n",
    "import pandas as pd\n",
    "\n",
    "from app.utils import preprocess_pipeline"
   ]
  },
  {
   "cell_type": "code",
   "execution_count": null,
   "id": "43357a5d",
   "metadata": {},
   "outputs": [],
   "source": [
    "df = pd.read_csv('../data/imdb_reviews_train.csv')\n",
    "df_test = pd.read_csv('../data/imdb_reviews_test.csv')\n",
    "\n",
    "df['clean_text'] = df['review'].apply(preprocess_pipeline)\n",
    "df_test['clean_text'] = df_test['review'].apply(preprocess_pipeline)\n",
    "\n",
    "#print(df.head())"
   ]
  },
  {
   "cell_type": "code",
   "execution_count": null,
   "id": "506d6c2a",
   "metadata": {},
   "outputs": [],
   "source": [
    "df_train_copy = df.copy()\n",
    "df_train_copy.drop(columns=['review'], inplace=True)\n",
    "df_train_copy.to_csv('../data/preprocessed/imdb_reviews_train_clean.csv', index=False)\n",
    "\n",
    "df_test_copy = df_test.copy()\n",
    "df_test_copy.drop(columns=['review'], inplace=True)\n",
    "df_test_copy.to_csv('../data/preprocessed/imdb_reviews_test_clean.csv', index=False)"
   ]
  },
  {
   "cell_type": "code",
   "execution_count": 3,
   "id": "e5d24fe0",
   "metadata": {},
   "outputs": [
    {
     "name": "stdout",
     "output_type": "stream",
     "text": [
      "                                              text_clean     emotion\n",
      "95121  appreciate good know hope apply knowledge one day  admiration\n",
      "95122                pretty much every punjabi dude meet  admiration\n",
      "95127           lot play store apple store vpn nord good  admiration\n",
      "95130                                       nice try one  admiration\n",
      "95136                          like kewpie doll precious  admiration\n"
     ]
    }
   ],
   "source": [
    "df_pos = pd.read_csv('../data/raw/goemotions_train_positive.csv')\n",
    "df_neg = pd.read_csv('../data/raw/goemotions_train_negative.csv')\n",
    "\n",
    "df_pos['text_clean'] = df_pos['text'].apply(preprocess_pipeline)\n",
    "df_neg['text_clean'] = df_neg['text'].apply(preprocess_pipeline)\n",
    "\n",
    "df_pos_melt = df_pos.melt(id_vars=[\"text_clean\"], var_name=\"emotion\", value_name=\"label\")\n",
    "df_pos_melt = df_pos_melt[df_pos_melt['label'] == 1].drop(columns=['label'])\n",
    "\n",
    "df_neg_melt = df_neg.melt(id_vars=[\"text_clean\"], var_name=\"emotion\", value_name=\"label\")\n",
    "df_neg_melt = df_neg_melt[df_neg_melt['label'] == 1].drop(columns=['label'])\n",
    "\n",
    "print(df_pos_melt.head())"
   ]
  },
  {
   "cell_type": "code",
   "execution_count": null,
   "id": "c20417f6",
   "metadata": {},
   "outputs": [],
   "source": [
    "df_pos_melt.to_csv('../data/preprocessed/goemotions_train_positive_clean.csv', index=False)\n",
    "df_neg_melt.to_csv('../data/preprocessed/goemotions_train_negative_clean.csv', index=False)"
   ]
  }
 ],
 "metadata": {
  "kernelspec": {
   "display_name": "venv",
   "language": "python",
   "name": "python3"
  },
  "language_info": {
   "codemirror_mode": {
    "name": "ipython",
    "version": 3
   },
   "file_extension": ".py",
   "mimetype": "text/x-python",
   "name": "python",
   "nbconvert_exporter": "python",
   "pygments_lexer": "ipython3",
   "version": "3.11.4"
  }
 },
 "nbformat": 4,
 "nbformat_minor": 5
}
