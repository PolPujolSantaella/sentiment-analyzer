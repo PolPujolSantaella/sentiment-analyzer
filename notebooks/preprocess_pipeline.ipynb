{
 "cells": [
  {
   "cell_type": "markdown",
   "id": "7f81cbab",
   "metadata": {},
   "source": [
    "# Preprocess Pipeline"
   ]
  },
  {
   "cell_type": "code",
   "execution_count": 5,
   "id": "43357a5d",
   "metadata": {},
   "outputs": [
    {
     "name": "stdout",
     "output_type": "stream",
     "text": [
      "                                              review  label  \\\n",
      "0  Bromwell High is a cartoon comedy. It ran at t...      1   \n",
      "1  Homelessness (or Houselessness as George Carli...      1   \n",
      "2  Brilliant over-acting by Lesley Ann Warren. Be...      1   \n",
      "3  This is easily the most underrated film inn th...      1   \n",
      "4  This is not the typical Mel Brooks film. It wa...      1   \n",
      "\n",
      "                                          clean_text  \n",
      "0  bromwell high cartoon comedy run time program ...  \n",
      "1  homelessness houselessness george carlin state...  \n",
      "2  brilliant acting lesley ann warren well dramat...  \n",
      "3  easily underrated film inn brooks cannon sure ...  \n",
      "4  typical mel brooks film much less slapstick mo...  \n"
     ]
    }
   ],
   "source": [
    "import os\n",
    "import sys\n",
    "\n",
    "sys.path.append(os.path.abspath('..'))\n",
    "import pandas as pd \n",
    "from app.utils import preprocess_pipeline\n",
    "\n",
    "df = pd.read_csv('../data/imdb_reviews_train.csv')\n",
    "\n",
    "df['clean_text'] = df['review'].apply(preprocess_pipeline)\n",
    "\n",
    "print(df.head())"
   ]
  },
  {
   "cell_type": "code",
   "execution_count": 9,
   "id": "506d6c2a",
   "metadata": {},
   "outputs": [],
   "source": [
    "df_train_copy = df.copy()\n",
    "df_train_copy.drop(columns=['review'], inplace=True)\n",
    "df_train_copy.to_csv('../data/preprocessed/imdb_reviews_train_clean.csv', index=False)"
   ]
  }
 ],
 "metadata": {
  "kernelspec": {
   "display_name": "venv",
   "language": "python",
   "name": "python3"
  },
  "language_info": {
   "codemirror_mode": {
    "name": "ipython",
    "version": 3
   },
   "file_extension": ".py",
   "mimetype": "text/x-python",
   "name": "python",
   "nbconvert_exporter": "python",
   "pygments_lexer": "ipython3",
   "version": "3.11.4"
  }
 },
 "nbformat": 4,
 "nbformat_minor": 5
}
