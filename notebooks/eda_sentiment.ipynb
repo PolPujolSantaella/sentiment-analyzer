{
 "cells": [
  {
   "cell_type": "markdown",
   "id": "9e251790",
   "metadata": {},
   "source": [
    "# Dataset Information\n",
    "\n",
    "- 50.000 comments of films: 25.000 for training, 25.000 for test. Between positive and negative.\n",
    "- 50.000 comments of films to unsupervised learning \n",
    "- Every comment have a mark up to 10.\n",
    "    - Less than 4 --> negative, label = (0)\n",
    "    - More than 7 --> positive, label = (1)\n",
    "\n",
    "Now, We have to visualize the data."
   ]
  },
  {
   "cell_type": "markdown",
   "id": "69f75b2f",
   "metadata": {},
   "source": [
    "## Estructure"
   ]
  },
  {
   "cell_type": "code",
   "execution_count": null,
   "id": "f69f9755",
   "metadata": {},
   "outputs": [
    {
     "name": "stdout",
     "output_type": "stream",
     "text": [
      "                                              review  label\n",
      "0  Bromwell High is a cartoon comedy. It ran at t...      1\n",
      "1  Homelessness (or Houselessness as George Carli...      1\n",
      "2  Brilliant over-acting by Lesley Ann Warren. Be...      1\n",
      "3  This is easily the most underrated film inn th...      1\n",
      "4  This is not the typical Mel Brooks film. It wa...      1\n"
     ]
    }
   ],
   "source": [
    "import os\n",
    "import pandas as pd \n",
    "\n",
    "# This script loads the IMDB movie reviews dataset from a specified directory structure,\n",
    "def load_imdb(path, split):\n",
    "    rows = []\n",
    "    for label in ['pos', 'neg']:\n",
    "        folder = os.path.join(path, split, label)\n",
    "        for fname in os.listdir(folder):\n",
    "            with open (os.path.join(folder, fname), encoding='utf8') as f:\n",
    "                rows.append({'review': f.read(), 'label': 1 if label == 'pos' else 0})\n",
    "        \n",
    "    return pd.DataFrame(rows)\n",
    "    \n",
    "df_train = load_imdb('../data/aclImdb', 'train')\n",
    "df_test = load_imdb('../data/aclImdb', 'test')\n",
    "df = pd.concat([df_train, df_test]).reset_index(drop=True)\n",
    "\n",
    "# Save the combined dataset to a CSV file\n",
    "df_train.to_csv('../data/imdb_reviews_train.csv', index=False)\n",
    "df_test.to_csv('../data/imdb_reviews_test.csv', index=False)\n",
    "\n",
    "# Visualize the first few rows\n",
    "print(df.head())"
   ]
  },
  {
   "cell_type": "code",
   "execution_count": null,
   "id": "9bc187ad",
   "metadata": {},
   "outputs": [
    {
     "name": "stdout",
     "output_type": "stream",
     "text": [
      "(50000, 2)\n",
      "label\n",
      "1    25000\n",
      "0    25000\n",
      "Name: count, dtype: int64\n",
      "count    50000.000000\n",
      "mean      1309.431020\n",
      "std        989.728014\n",
      "min         32.000000\n",
      "25%        699.000000\n",
      "50%        970.000000\n",
      "75%       1590.250000\n",
      "max      13704.000000\n",
      "Name: review, dtype: float64\n"
     ]
    }
   ],
   "source": [
    "# First Visualization:\n",
    "print(df.shape)\n",
    "print(df['label'].value_counts())\n",
    "print(df['review'].apply(len).describe())"
   ]
  },
  {
   "cell_type": "markdown",
   "id": "37ef90e8",
   "metadata": {},
   "source": [
    "### Analysis\n",
    "\n",
    "Dataset with perfect balance. \n",
    "\n",
    "Minimum --> 32 characters\n",
    "25 % --> 699 characters\n",
    "Median --> 970 characters\n",
    "75% --> 1590 characters\n",
    "Maximum --> 13.704 characters\n",
    "Mean --> 1.309 characters\n",
    "std --> 990 characters\n",
    "\n",
    "Comments are so long, th mean of characters is 970 so it is good for trainning the model. There are some outliers with 13.704 characteres, we could limit the length to avoid problems. The std is variable, I have to know that for the tokenization.\n",
    "\n",
    "Recomendations:\n",
    "\n",
    "1. For a classical model, we have to limit the length to accelerate the process without losing information\n",
    "\n",
    "2. For Deep Learning we have to define\n",
    "    - Màx 512 or 1024 tokens\n",
    "    - Truncate or padding"
   ]
  },
  {
   "cell_type": "markdown",
   "id": "a488599d",
   "metadata": {},
   "source": [
    "## Figures"
   ]
  },
  {
   "cell_type": "code",
   "execution_count": null,
   "id": "13d32e31",
   "metadata": {},
   "outputs": [
    {
     "ename": "SyntaxError",
     "evalue": "invalid syntax (1930292778.py, line 3)",
     "output_type": "error",
     "traceback": [
      "  \u001b[36mCell\u001b[39m\u001b[36m \u001b[39m\u001b[32mIn[9]\u001b[39m\u001b[32m, line 3\u001b[39m\n\u001b[31m    \u001b[39m\u001b[31mfrom seaborn as sns\u001b[39m\n                 ^\n\u001b[31mSyntaxError\u001b[39m\u001b[31m:\u001b[39m invalid syntax\n"
     ]
    }
   ],
   "source": [
    "import numpy as np\n",
    "import matplotlib.pyplot as plt\n",
    "import seaborn as sns\n",
    "from wordcloud import WordCloud\n",
    "\n",
    "df['length'] = df['review'].apply(len)\n",
    "\n",
    "plt.figure(figsize=(10,5))\n",
    "sns.histplot(df['length'], hue='sentiment', bins=50, palette='Set1', alpha=0.6)\n",
    "plt.title(\"Distribution of Review Lengths by Sentiment\")\n",
    "plt.show()\n",
    "\n",
    "\n",
    "text_pos = ' '.join(df[df['label'] == 1]['clean'])\n",
    "text_neg = ' '.join(df[df['label'] == 0]['clean'])\n",
    "\n",
    "plt.figure(figsize=(10, 5))\n",
    "wc_pos = WordCloud(width=800, height=400, background_color='white').generate(text_pos)\n",
    "plt.imshow(wc_pos, interpolation='bilinear')\n",
    "plt.axis('off')\n",
    "plt.title('Word Cloud for Positive Reviews')\n",
    "plt.show()\n",
    "\n",
    "plt.figure(figsize=(10, 5))\n",
    "wc_neg = WordCloud(width=800, height=400, background_color='white').generate(text_neg)\n",
    "plt.imshow(wc_neg, interpolation='bilinear')\n",
    "plt.axis('off')\n",
    "plt.title('Word Cloud for Negative Reviews')\n",
    "plt.show()"
   ]
  }
 ],
 "metadata": {
  "kernelspec": {
   "display_name": "venv",
   "language": "python",
   "name": "python3"
  },
  "language_info": {
   "codemirror_mode": {
    "name": "ipython",
    "version": 3
   },
   "file_extension": ".py",
   "mimetype": "text/x-python",
   "name": "python",
   "nbconvert_exporter": "python",
   "pygments_lexer": "ipython3",
   "version": "3.11.4"
  }
 },
 "nbformat": 4,
 "nbformat_minor": 5
}
